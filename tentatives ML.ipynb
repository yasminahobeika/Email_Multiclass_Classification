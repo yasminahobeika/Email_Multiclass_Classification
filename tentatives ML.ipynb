{
 "cells": [
  {
   "cell_type": "code",
   "execution_count": 3,
   "id": "cc031f2c",
   "metadata": {},
   "outputs": [],
   "source": [
    "import pandas as pd\n",
    "import numpy as np\n",
    "\n",
    "from sklearn.preprocessing import OneHotEncoder\n",
    "from sklearn.neighbors import KNeighborsClassifier\n",
    "\n",
    "from sklearn.metrics import accuracy_score\n"
   ]
  },
  {
   "cell_type": "code",
   "execution_count": 4,
   "id": "159aea00",
   "metadata": {},
   "outputs": [],
   "source": [
    "train_df = pd.read_csv('train.csv', index_col=0)\n",
    "test_df = pd.read_csv('test.csv', index_col=0)"
   ]
  },
  {
   "cell_type": "code",
   "execution_count": 5,
   "id": "cf8f94c1",
   "metadata": {},
   "outputs": [
    {
     "data": {
      "text/html": [
       "<div>\n",
       "<style scoped>\n",
       "    .dataframe tbody tr th:only-of-type {\n",
       "        vertical-align: middle;\n",
       "    }\n",
       "\n",
       "    .dataframe tbody tr th {\n",
       "        vertical-align: top;\n",
       "    }\n",
       "\n",
       "    .dataframe thead th {\n",
       "        text-align: right;\n",
       "    }\n",
       "</style>\n",
       "<table border=\"1\" class=\"dataframe\">\n",
       "  <thead>\n",
       "    <tr style=\"text-align: right;\">\n",
       "      <th></th>\n",
       "      <th>date</th>\n",
       "      <th>org</th>\n",
       "      <th>tld</th>\n",
       "      <th>ccs</th>\n",
       "      <th>bcced</th>\n",
       "      <th>mail_type</th>\n",
       "      <th>images</th>\n",
       "      <th>urls</th>\n",
       "      <th>salutations</th>\n",
       "      <th>designation</th>\n",
       "      <th>chars_in_subject</th>\n",
       "      <th>chars_in_body</th>\n",
       "      <th>label</th>\n",
       "    </tr>\n",
       "  </thead>\n",
       "  <tbody>\n",
       "    <tr>\n",
       "      <th>0</th>\n",
       "      <td>Mon, 6 Nov 2017 11:13:45 +0100</td>\n",
       "      <td>reply</td>\n",
       "      <td>ebay.in</td>\n",
       "      <td>0</td>\n",
       "      <td>0</td>\n",
       "      <td>multipart/alternative</td>\n",
       "      <td>35</td>\n",
       "      <td>120</td>\n",
       "      <td>0</td>\n",
       "      <td>0</td>\n",
       "      <td>49.0</td>\n",
       "      <td>80027</td>\n",
       "      <td>2</td>\n",
       "    </tr>\n",
       "    <tr>\n",
       "      <th>1</th>\n",
       "      <td>Wed, 14 Feb 2018 11:00:16 -0000</td>\n",
       "      <td>edm</td>\n",
       "      <td>efinmail.com</td>\n",
       "      <td>0</td>\n",
       "      <td>0</td>\n",
       "      <td>multipart/alternative</td>\n",
       "      <td>1</td>\n",
       "      <td>7</td>\n",
       "      <td>0</td>\n",
       "      <td>0</td>\n",
       "      <td>107.0</td>\n",
       "      <td>2961</td>\n",
       "      <td>1</td>\n",
       "    </tr>\n",
       "    <tr>\n",
       "      <th>2</th>\n",
       "      <td>Wed, 6 Jul 2016 19:53:37 +0000</td>\n",
       "      <td>usebackpack</td>\n",
       "      <td>com</td>\n",
       "      <td>0</td>\n",
       "      <td>0</td>\n",
       "      <td>text/html</td>\n",
       "      <td>4</td>\n",
       "      <td>17</td>\n",
       "      <td>0</td>\n",
       "      <td>0</td>\n",
       "      <td>35.0</td>\n",
       "      <td>25149</td>\n",
       "      <td>1</td>\n",
       "    </tr>\n",
       "    <tr>\n",
       "      <th>3</th>\n",
       "      <td>Fri, 11 Oct 2019 11:25:40 +0200</td>\n",
       "      <td>granular</td>\n",
       "      <td>ai</td>\n",
       "      <td>0</td>\n",
       "      <td>0</td>\n",
       "      <td>multipart/mixed</td>\n",
       "      <td>0</td>\n",
       "      <td>0</td>\n",
       "      <td>0</td>\n",
       "      <td>0</td>\n",
       "      <td>15.0</td>\n",
       "      <td>635296</td>\n",
       "      <td>1</td>\n",
       "    </tr>\n",
       "    <tr>\n",
       "      <th>4</th>\n",
       "      <td>Tue, 07 Nov 2017 11:07:18 +0000 (UTC)</td>\n",
       "      <td>github</td>\n",
       "      <td>com</td>\n",
       "      <td>1</td>\n",
       "      <td>0</td>\n",
       "      <td>multipart/alternative</td>\n",
       "      <td>2</td>\n",
       "      <td>11</td>\n",
       "      <td>0</td>\n",
       "      <td>0</td>\n",
       "      <td>49.0</td>\n",
       "      <td>2355</td>\n",
       "      <td>1</td>\n",
       "    </tr>\n",
       "  </tbody>\n",
       "</table>\n",
       "</div>"
      ],
      "text/plain": [
       "                                    date          org           tld  ccs  \\\n",
       "0         Mon, 6 Nov 2017 11:13:45 +0100        reply       ebay.in    0   \n",
       "1        Wed, 14 Feb 2018 11:00:16 -0000          edm  efinmail.com    0   \n",
       "2         Wed, 6 Jul 2016 19:53:37 +0000  usebackpack           com    0   \n",
       "3        Fri, 11 Oct 2019 11:25:40 +0200     granular            ai    0   \n",
       "4  Tue, 07 Nov 2017 11:07:18 +0000 (UTC)       github           com    1   \n",
       "\n",
       "   bcced              mail_type  images  urls  salutations  designation  \\\n",
       "0      0  multipart/alternative      35   120            0            0   \n",
       "1      0  multipart/alternative       1     7            0            0   \n",
       "2      0              text/html       4    17            0            0   \n",
       "3      0        multipart/mixed       0     0            0            0   \n",
       "4      0  multipart/alternative       2    11            0            0   \n",
       "\n",
       "   chars_in_subject  chars_in_body  label  \n",
       "0              49.0          80027      2  \n",
       "1             107.0           2961      1  \n",
       "2              35.0          25149      1  \n",
       "3              15.0         635296      1  \n",
       "4              49.0           2355      1  "
      ]
     },
     "execution_count": 5,
     "metadata": {},
     "output_type": "execute_result"
    }
   ],
   "source": [
    "train_df.head()\n",
    "\n",
    "# date: unix style date format, date-time on which the email was received\n",
    "# org: organisation of the sender\n",
    "# tld: top level domain of the organisation eg. com, ac.in, fr, and org.\n",
    "# ccs: number of emails cced with this email\n",
    "# bcced: is the receiver bcc'd in the email (binary)\n",
    "# mail_type: type of the mail body, e.g. text/plain and text/html\n",
    "# images: number of images in the mail body\n",
    "# urls: number of urls in the mail body\n",
    "# salutations: is salutation used in the email (binary)\n",
    "# designation: is designation of the sender mentioned in the email (binary)\n",
    "# chars_in_subject: number of characters in the mail subject\n",
    "# chars_in_body: number of characters in the mail body\n",
    "# label: label of this email. Eight classes are 'Updates', 'Personal', ‘Promotions’, 'Forums', 'Purchases', 'Travel',\n",
    "#                                                'Spam', and ‘Social’. Class ids start from 0 to 7\n",
    "\n",
    "\n",
    "\n",
    "\n",
    "# Data cleaning important things:\n",
    "# Removing or substituting NA values\n",
    "# chars_in_subject should be turned into int64, object should be converted to string?\n",
    "\n",
    "\n",
    "# Feature Engineering:\n",
    "# We can create chars_in_email = chars_in_subject + chars_in_body\n",
    "# data = images + urls\n",
    "# Number of capitalized words (or capital letters)\n",
    "# Sum of all character lengths of words\n",
    "# Number of stopwords in email\n",
    "# Number of words containing numbers and letters\n",
    "# Number of punctuations\n",
    "# number of unique urls in an email\n",
    "# Number of words containing only letters\n",
    "# Max Ratio of digit characters to all characters of each word in an email\n",
    "# Binary variable indicating if the email subject contains special characters\n",
    "# 1-7 day of the week (for example we know that promotions starts monday or friday)\n",
    "# beginning-middle-end period of the month (promotions starts end of month)\n",
    "# 1-12 month (promotions starts April, December, September)\n",
    "# AM-PM take only the hour the email was sent (pay attention to the GMT time)\n",
    "# word_freq_WORD =percentage of words in the e-mail that match WORD ('Updates', 'Personal', ‘Promotions’, 'Forums', 'Purchases', 'Travel',\n",
    "#                                                'Spam', and ‘Social’)\n",
    "# i.e. 100 * (number of times the  WORD appears in the email)/ total number of words in e-mail\n",
    "\n",
    "\n",
    "\n",
    "# Data Cleaning:\n",
    "# Lowering case\n",
    "# Removal of special characters\n",
    "# Removal of stopwords\n",
    "# Removal of hyperlinks\n",
    "# Removal of numbers\n",
    "# Removal of whitespaces\n",
    "\n",
    "# Dimensionality Reduction: PCA or LDA\n",
    "\n",
    "# Feature Scaling:\n",
    "# from sklearn.preprocessing import RobustScaler\n",
    "# scaler = RobustScaler()\n",
    "# X_train = scaler.fit_transform(X_train)\n",
    "# X_test = scaler.transform(X_test)"
   ]
  },
  {
   "cell_type": "code",
   "execution_count": 9,
   "id": "4e897220",
   "metadata": {},
   "outputs": [
    {
     "data": {
      "text/plain": [
       "date                   0\n",
       "org                 3451\n",
       "tld                 3453\n",
       "ccs                    0\n",
       "bcced                  0\n",
       "mail_type            172\n",
       "images                 0\n",
       "urls                   0\n",
       "salutations            0\n",
       "designation            0\n",
       "chars_in_subject      16\n",
       "chars_in_body          0\n",
       "label                  0\n",
       "dtype: int64"
      ]
     },
     "execution_count": 9,
     "metadata": {},
     "output_type": "execute_result"
    }
   ],
   "source": [
    "train_df.isnull().sum()"
   ]
  },
  {
   "cell_type": "code",
   "execution_count": 10,
   "id": "c585af49",
   "metadata": {},
   "outputs": [
    {
     "data": {
      "text/plain": [
       "date                 object\n",
       "org                  object\n",
       "tld                  object\n",
       "ccs                   int64\n",
       "bcced                 int64\n",
       "mail_type            object\n",
       "images                int64\n",
       "urls                  int64\n",
       "salutations           int64\n",
       "designation           int64\n",
       "chars_in_subject    float64\n",
       "chars_in_body         int64\n",
       "label                 int64\n",
       "dtype: object"
      ]
     },
     "execution_count": 10,
     "metadata": {},
     "output_type": "execute_result"
    }
   ],
   "source": [
    "train_df.dtypes \n",
    "\n",
    "# df['column'].astype(str)\n",
    "# df['column'] = df['column'].astype('|S')"
   ]
  },
  {
   "cell_type": "code",
   "execution_count": 11,
   "id": "6a6d8b4c",
   "metadata": {},
   "outputs": [
    {
     "name": "stderr",
     "output_type": "stream",
     "text": [
      "C:\\Users\\CompuTop\\AppData\\Local\\Temp\\ipykernel_12308\\4147529680.py:1: FutureWarning: Dropping of nuisance columns in DataFrame reductions (with 'numeric_only=None') is deprecated; in a future version this will raise TypeError.  Select only valid columns before calling the reduction.\n",
      "  train_df.max()\n"
     ]
    },
    {
     "data": {
      "text/plain": [
       "date                Wed, 9 Sep 2020 19:00:30 +0000\n",
       "ccs                                            179\n",
       "bcced                                            1\n",
       "images                                       83481\n",
       "urls                                         21540\n",
       "salutations                                      1\n",
       "designation                                      1\n",
       "chars_in_subject                             606.0\n",
       "chars_in_body                             74381084\n",
       "label                                            7\n",
       "dtype: object"
      ]
     },
     "execution_count": 11,
     "metadata": {},
     "output_type": "execute_result"
    }
   ],
   "source": [
    "train_df.max() # binary respected"
   ]
  },
  {
   "cell_type": "code",
   "execution_count": 12,
   "id": "fbffc71e",
   "metadata": {},
   "outputs": [
    {
     "name": "stderr",
     "output_type": "stream",
     "text": [
      "C:\\Users\\CompuTop\\AppData\\Local\\Temp\\ipykernel_12308\\1859436719.py:1: FutureWarning: Dropping of nuisance columns in DataFrame reductions (with 'numeric_only=None') is deprecated; in a future version this will raise TypeError.  Select only valid columns before calling the reduction.\n",
      "  train_df.min()\n"
     ]
    },
    {
     "data": {
      "text/plain": [
       "date                01 Apr 2018 18:50:30 +0530\n",
       "ccs                                          0\n",
       "bcced                                        0\n",
       "images                                       0\n",
       "urls                                         0\n",
       "salutations                                  0\n",
       "designation                                  0\n",
       "chars_in_subject                           0.0\n",
       "chars_in_body                                4\n",
       "label                                        0\n",
       "dtype: object"
      ]
     },
     "execution_count": 12,
     "metadata": {},
     "output_type": "execute_result"
    }
   ],
   "source": [
    "train_df.min() # no negative values"
   ]
  },
  {
   "cell_type": "code",
   "execution_count": 13,
   "id": "f306dd1e",
   "metadata": {},
   "outputs": [],
   "source": [
    "train_x = train_df[['mail_type']]\n",
    "train_x = train_x.fillna(value='None')\n",
    "train_y = train_df[['label']]\n",
    "\n",
    "test_x = test_df[['mail_type']]\n",
    "test_x = test_x.fillna(value='None')"
   ]
  },
  {
   "cell_type": "code",
   "execution_count": 14,
   "id": "7f3d5865",
   "metadata": {},
   "outputs": [
    {
     "name": "stderr",
     "output_type": "stream",
     "text": [
      "C:\\Users\\CompuTop\\anaconda3\\lib\\site-packages\\sklearn\\base.py:443: UserWarning: X has feature names, but OneHotEncoder was fitted without feature names\n",
      "  warnings.warn(\n",
      "C:\\Users\\CompuTop\\anaconda3\\lib\\site-packages\\sklearn\\base.py:443: UserWarning: X has feature names, but OneHotEncoder was fitted without feature names\n",
      "  warnings.warn(\n"
     ]
    }
   ],
   "source": [
    "feat_enc = OneHotEncoder()\n",
    "feat_enc.fit(np.vstack([train_x, test_x]))\n",
    "train_x_featurized = feat_enc.transform(train_x)\n",
    "test_x_featurized = feat_enc.transform(test_x)"
   ]
  },
  {
   "cell_type": "code",
   "execution_count": 15,
   "id": "0370383e",
   "metadata": {},
   "outputs": [
    {
     "name": "stderr",
     "output_type": "stream",
     "text": [
      "C:\\Users\\CompuTop\\anaconda3\\lib\\site-packages\\sklearn\\neighbors\\_classification.py:198: DataConversionWarning: A column-vector y was passed when a 1d array was expected. Please change the shape of y to (n_samples,), for example using ravel().\n",
      "  return self._fit(X, y)\n"
     ]
    }
   ],
   "source": [
    "neigh = KNeighborsClassifier(n_neighbors=3)\n",
    "neigh.fit(train_x_featurized, train_y)\n",
    "pred_y = neigh.predict(test_x_featurized)"
   ]
  },
  {
   "cell_type": "code",
   "execution_count": 16,
   "id": "fe062607",
   "metadata": {},
   "outputs": [],
   "source": [
    "pred_df = pd.DataFrame(pred_y, columns=['label'])\n",
    "pred_df.to_csv(\"knn_sample_submission.csv\", index=True, index_label='Id')"
   ]
  }
 ],
 "metadata": {
  "kernelspec": {
   "display_name": "Python 3 (ipykernel)",
   "language": "python",
   "name": "python3"
  },
  "language_info": {
   "codemirror_mode": {
    "name": "ipython",
    "version": 3
   },
   "file_extension": ".py",
   "mimetype": "text/x-python",
   "name": "python",
   "nbconvert_exporter": "python",
   "pygments_lexer": "ipython3",
   "version": "3.9.12"
  }
 },
 "nbformat": 4,
 "nbformat_minor": 5
}
