{
  "cells": [
    {
      "cell_type": "code",
      "execution_count": null,
      "metadata": {
        "id": "11d85446"
      },
      "outputs": [],
      "source": [
        "import numpy as np\n",
        "import pandas as pd\n",
        "from sklearn import preprocessing\n",
        "import datetime\n",
        "from datetime import datetime\n",
        "from sklearn.preprocessing import OneHotEncoder\n",
        "from sklearn import preprocessing"
      ],
      "id": "11d85446"
    },
    {
      "cell_type": "code",
      "execution_count": null,
      "metadata": {
        "id": "gB7lmi4aknSa"
      },
      "outputs": [],
      "source": [
        "def findd(df):\n",
        "    index = df.find(',')\n",
        "    if index == -1:\n",
        "        index = 0\n",
        "    else:\n",
        "        index = index+2\n",
        "    return index\n",
        "\n",
        "def finddd(df):\n",
        "    index1 = df.find('+')\n",
        "    index2 = df.find('-')\n",
        "    return max(index1, index2)\n",
        "\n",
        "def fin(df):\n",
        "    index = df.find(':')\n",
        "    return index\n",
        "\n",
        "def period(x):\n",
        "  if x<11:\n",
        "    return 'start'\n",
        "  elif x<21:\n",
        "    return 'middle'\n",
        "  else:\n",
        "    return 'end'\n",
        "\n",
        "def determining_week(x):\n",
        "  index = x.find('/')\n",
        "  hour = int(x[:index])\n",
        "  weekday = int(x[index+1:])\n",
        "  if hour >= 9 and hour < 17 and weekday != 0 and weekday != 6:\n",
        "    return 'weekday'\n",
        "  elif hour >= 9 and hour < 17 and (weekday == 0 or weekday == 6):\n",
        "    return 'weekend'\n",
        "  else:\n",
        "    return 'all week'\n",
        "\n",
        "def determining_day(x):\n",
        "  index = x.find('/')\n",
        "  hour = int(x[:index])\n",
        "  weekday = int(x[index+1:])\n",
        "  if hour >= 9 and hour < 17 and weekday != 0 and weekday != 6:\n",
        "    return 'working hours'\n",
        "  elif hour >= 9 and hour < 17 and (weekday == 0 or weekday == 6):\n",
        "    return 'weekend day'\n",
        "  elif hour >= 17 and hour <= 23:\n",
        "    return 'evening'\n",
        "  elif hour <= 5:\n",
        "    return 'night'\n",
        "  else:\n",
        "    return 'morning'\n",
        "\n",
        "def feature_engineering(train_df):\n",
        "\n",
        "  train_df['date'] = train_df['date'].apply(lambda x: x.replace(\"  \",\" \")) #some rows have extra space\n",
        "\n",
        "  train_df['day'] = train_df['date'].apply(lambda x: x[findd(x):findd(x)+2].replace(\" \", \"\"))\n",
        "  train_df['day'] = train_df['day'].apply(lambda x: '0'+x if len(x)==1 else x) # to be used for datetime\n",
        "\n",
        "  train_df['month'] = train_df['date'].apply(lambda x: x[findd(x)+2:findd(x)+6].replace(\" \", \"\"))\n",
        "\n",
        "  train_df['year'] = train_df['date'].apply(lambda x: x[findd(x)+6:findd(x)+11].replace(\" \", \"\"))\n",
        "\n",
        "  train_df['hour'] = train_df['date'].apply(lambda x: x[findd(x)+11:fin(x)].replace(\" \", \"\"))\n",
        "\n",
        "  train_df['minute'] = train_df['date'].apply(lambda x: x[fin(x)+1:fin(x)+3].replace(\" \", \"\"))\n",
        "\n",
        "  train_df['second'] = train_df['date'].apply(lambda x: x[fin(x)+4:fin(x)+6].replace(\" \", \"\"))\n",
        "\n",
        "  train_df['GMT'] = train_df['date'].apply(lambda x: x[finddd(x):].replace(\" \", \"\"))\n",
        "\n",
        "  return train_df\n",
        "\n",
        "def month_cleaner (x):\n",
        "    try:\n",
        "        x = datetime.strptime(x,'%b').strftime('%m')\n",
        "        return(x)\n",
        "    except:\n",
        "        return (-1)\n",
        "def week_day_cleaner (x):\n",
        "    try:\n",
        "        x = datetime.strptime(x, '%d-%b-%Y').strftime('%w')\n",
        "        return(x)\n",
        "    except:\n",
        "        return (0)\n",
        "    \n",
        "def hour_cleaner (x):\n",
        "    try:\n",
        "        if x < 12:\n",
        "            x = 'AM'  \n",
        "        else: x = 'PM'\n",
        "        return(x)\n",
        "    except:\n",
        "        return (0)\n",
        "def day_of_week_cleaner(x):\n",
        "    try:return(determining_week(x))\n",
        "    except:return(0)\n",
        "    \n",
        "def time_of_day_cleaner(x):\n",
        "    try:return(determining_day(x))\n",
        "    except:return(0)\n",
        "\n",
        "def feature_engineering_cleaning(train_df):\n",
        "    # Feature Engineering after cleaning:\n",
        "  # Example: maybe if promotion more images will be used than characters so proportion of char in body will be smaller\n",
        "\n",
        "  train_df['month_number'] = train_df['month'].apply(month_cleaner)\n",
        "  \n",
        "  train_df['weekday'] = (train_df['day'] +'-'+ train_df['month'] +'-'+ train_df['year']).apply(week_day_cleaner)\n",
        "  # Weekday as a decimal number, where 0 is Sunday and 6 is Saturday.\n",
        "\n",
        "  train_df['period_month'] = train_df['day'].astype(int).apply(lambda x: period(x))\n",
        "\n",
        "  train_df['period_time'] = train_df['hour'].astype(int).apply(hour_cleaner)\n",
        "\n",
        "  train_df['timezone'] = train_df['GMT'].apply(lambda x: x[:5]).apply(lambda x: '+0000' if len(x) != 5 else x).apply(lambda x: '+0000' if x == '-0000' else x)\n",
        "\n",
        "  train_df['time'] = train_df['hour'].astype('str') +'/'+ train_df['weekday'].astype('str')\n",
        "\n",
        "  train_df['day_of_week'] = train_df['time'].apply(day_of_week_cleaner)\n",
        "  train_df['time_of_day'] = train_df['time'].apply(time_of_day_cleaner)\n",
        "\n",
        "  train_df.drop('time',axis= 1, inplace=True)\n",
        "\n",
        "  train_df['year'] = train_df['year'].astype(int)\n",
        "  train_df['day'] = train_df['day'].astype(int)\n",
        "\n",
        "  train_df = data_cleaner(train_df)\n",
        "\n",
        "  train_df['chars_in_subject'] = train_df['chars_in_subject'].astype(int)\n",
        "  train_df['chars_in_body'] = train_df['chars_in_body'].astype(int)\n",
        "  train_df['hour'] = train_df['hour'].astype(int)\n",
        "  train_df['month_number'] = train_df['month_number'].astype(int)\n",
        "  train_df['weekday'] = train_df['weekday'].astype(int)\n",
        "\n",
        "\n",
        "  train_df['chars_in_subject_proportion'] = train_df['chars_in_subject'] / (train_df['chars_in_subject'] + train_df['chars_in_body'])\n",
        "  train_df['chars_in_body_proportion'] = train_df['chars_in_body'] / (train_df['chars_in_subject'] + train_df['chars_in_body'])\n",
        "\n",
        "  train_df['urls_images_proportion'] = (train_df['urls'] + train_df['images'])/ (train_df['chars_in_body'] + train_df['urls'] + train_df['images'])\n",
        "\n",
        "  train_df['urls_proportion_body'] = train_df['urls']/ (train_df['chars_in_body'] + 1)\n",
        "\n",
        "  train_df['images_proportion_body'] = train_df['images']/ (train_df['chars_in_body'] + 1)\n",
        "\n",
        "  train_df['chars_in_subject_proportion'] = train_df['chars_in_subject_proportion']\n",
        "\n",
        "  train_df['chars_in_body_proportion'] = train_df['chars_in_body_proportion']\n",
        "\n",
        "  train_df['urls_images_proportion'] = train_df['urls_images_proportion']\n",
        "\n",
        "  train_df['urls_proportion_body'] = train_df['urls_proportion_body']\n",
        "\n",
        "  train_df['images_proportion_body'] = train_df['images_proportion_body']\n",
        "\n",
        "  return train_df"
      ],
      "id": "gB7lmi4aknSa"
    },
    {
      "cell_type": "code",
      "execution_count": null,
      "metadata": {
        "id": "17de6185",
        "outputId": "3e879d5e-8141-4b55-a095-996bb261c761",
        "colab": {
          "base_uri": "https://localhost:8080/",
          "height": 35
        }
      },
      "outputs": [
        {
          "output_type": "execute_result",
          "data": {
            "text/plain": [
              "'AM'"
            ],
            "application/vnd.google.colaboratory.intrinsic+json": {
              "type": "string"
            }
          },
          "metadata": {},
          "execution_count": 4
        }
      ],
      "source": [
        "hour_cleaner(10)"
      ],
      "id": "17de6185"
    },
    {
      "cell_type": "code",
      "execution_count": null,
      "metadata": {
        "id": "6c30e288"
      },
      "outputs": [],
      "source": [
        "train_df = pd.read_csv('train.csv')\n",
        "test_df = pd.read_csv('test.csv') "
      ],
      "id": "6c30e288"
    },
    {
      "cell_type": "code",
      "execution_count": null,
      "metadata": {
        "id": "c8692567"
      },
      "outputs": [],
      "source": [
        "def data_cleaner (df, chars_in_subject = train_df['chars_in_subject'].median() ):\n",
        "    \n",
        "    df['org'] = df['org'].fillna('org_undefinded')\n",
        "    df['tld'] = df['tld'].fillna('tld_undefinded')\n",
        "    df['mail_type'] = df['mail_type'].fillna('mail_type_undefinded').apply(lambda x:x.lower())\n",
        "    df['chars_in_subject'] = df['chars_in_subject'].fillna(chars_in_subject)\n",
        "    df.drop([ 'date', 'GMT', 'month', 'minute', 'second'],axis= 1, inplace=True)\n",
        "    return (df)\n",
        "\n",
        "def invert_str(x):\n",
        "    return(x[::-1])"
      ],
      "id": "c8692567"
    },
    {
      "cell_type": "code",
      "execution_count": null,
      "metadata": {
        "id": "e35f467a"
      },
      "outputs": [],
      "source": [
        "# One hot encoding the mail_type\n",
        "\n",
        "\n",
        "def ohe_mail_type (df):\n",
        "    unique_mail_types = df['mail_type'].apply(lambda x: x.split('/')).explode().unique()\n",
        "    for mt in unique_mail_types:\n",
        "        df[f'mail_type_{mt}'] = df['mail_type'].apply(lambda x: 1 if mt in x else 0)\n",
        "    df.drop('mail_type',axis =1,inplace = True)\n",
        "    return(df)\n",
        "\n",
        "\n",
        "def ohe_others(df):\n",
        "\n",
        "  unique_period_month = df['period_month'].unique()\n",
        "  for mt in unique_period_month:\n",
        "      df[f'period_month_{mt}'] = df['period_month'].apply(lambda x: 1 if mt in x else 0)\n",
        "  df.drop('period_month',axis= 1, inplace=True)\n",
        "\n",
        "  unique_period_time = df['period_time'].unique()\n",
        "  for mt in unique_period_time:\n",
        "      df[f'period_time_{mt}'] = df['period_time'].apply(lambda x: 1 if mt in x else 0)\n",
        "  df.drop('period_time',axis= 1, inplace=True)\n",
        "\n",
        "  unique_day_of_week = df['day_of_week'].unique()\n",
        "  for mt in unique_day_of_week:\n",
        "      df[f'day_of_week_{mt}'] = df['day_of_week'].apply(lambda x: 1 if mt in x else 0)\n",
        "  df.drop('day_of_week',axis= 1, inplace=True)\n",
        "\n",
        "  unique_time_of_day = df['time_of_day'].unique()\n",
        "  for mt in unique_time_of_day:\n",
        "      df[f'time_of_day_{mt}'] = df['time_of_day'].apply(lambda x: 1 if mt in x else 0)\n",
        "  df.drop('time_of_day',axis= 1, inplace=True)\n",
        "\n",
        "  return df"
      ],
      "id": "e35f467a"
    },
    {
      "cell_type": "code",
      "execution_count": null,
      "metadata": {
        "id": "be5b23da"
      },
      "outputs": [],
      "source": [
        "# Splitting tld\n",
        "def tld_split(df):\n",
        "    df['tld'].apply(lambda x:x.split('.')[0]).unique()\n",
        "    df['tld_back'] = df['tld'].apply(lambda x: 'undefined_tld_back' if '.' not in x else invert_str(invert_str(x).split('.')[0].lower()))\n",
        "    df['tld_front'] = df['tld'].apply(lambda x: 'undefined_tld_front' if '.' not in x else x.split('.')[0].lower())\n",
        "    df.drop(['tld'], axis = 1, inplace = True)\n",
        "    top_10_tld_back = pd.DataFrame(df[['tld_back']].groupby('tld_back').size()).sort_values(0,ascending=False).head(20).index.tolist()\n",
        "    df['tld_back'] = df['tld_back'].apply(lambda x: x if x in top_10_tld_back else 'tld_back_Uncommon')\n",
        "    for bk in df['tld_back'].unique().tolist():\n",
        "        df[f'tld_back_{bk}'] = df['tld_back'].apply(lambda x: 1 if x == bk else 0 )\n",
        "    df.drop(['tld_back'], axis = 1, inplace = True)\n",
        "    return(df)"
      ],
      "id": "be5b23da"
    },
    {
      "cell_type": "code",
      "execution_count": null,
      "metadata": {
        "id": "a8dc7570"
      },
      "outputs": [],
      "source": [
        "test_df['label'] = 'test_df'\n",
        "joint_df = train_df.append(test_df, ignore_index=False) "
      ],
      "id": "a8dc7570"
    },
    {
      "cell_type": "code",
      "execution_count": null,
      "metadata": {
        "id": "33bdb8fc",
        "outputId": "504e18a2-9341-443b-f658-6b5651727a63",
        "colab": {
          "base_uri": "https://localhost:8080/"
        }
      },
      "outputs": [
        {
          "output_type": "stream",
          "name": "stdout",
          "text": [
            "(114541, 14)\n",
            "(80176, 14)\n",
            "(34365, 14)\n"
          ]
        }
      ],
      "source": [
        "print(joint_df.shape)\n",
        "print(train_df.shape)\n",
        "print(test_df.shape)\n",
        "# train_df = "
      ],
      "id": "33bdb8fc"
    },
    {
      "cell_type": "code",
      "execution_count": null,
      "metadata": {
        "id": "3d78a895"
      },
      "outputs": [],
      "source": [
        "\n"
      ],
      "id": "3d78a895"
    },
    {
      "cell_type": "code",
      "execution_count": null,
      "metadata": {
        "id": "-HsXxQtDk3hK"
      },
      "outputs": [],
      "source": [
        "# train_df = feature_engineering(train_df)\n",
        "# train_df = train_df[train_df['year'] != '131']\n",
        "# train_df = train_df[train_df['month'] != '-MAR']\n",
        "# train_df = feature_engineering_cleaning(train_df)\n",
        "# train_df = ohe_mail_type(train_df)\n",
        "# train_df = ohe_others(train_df)\n",
        "# train_df = tld_split(train_df)"
      ],
      "id": "-HsXxQtDk3hK"
    },
    {
      "cell_type": "code",
      "execution_count": null,
      "metadata": {
        "id": "7bdea365"
      },
      "outputs": [],
      "source": [
        "joint_df = feature_engineering(joint_df)\n",
        "joint_df = feature_engineering_cleaning(joint_df)\n",
        "joint_df = ohe_mail_type(joint_df)\n",
        "joint_df = ohe_others(joint_df)\n",
        "joint_df = tld_split(joint_df)"
      ],
      "id": "7bdea365"
    },
    {
      "cell_type": "code",
      "execution_count": null,
      "metadata": {
        "id": "2e142a62",
        "outputId": "d87da46c-02c9-4828-8420-bb317aa196f7",
        "colab": {
          "base_uri": "https://localhost:8080/"
        }
      },
      "outputs": [
        {
          "output_type": "execute_result",
          "data": {
            "text/plain": [
              "0        0.000612\n",
              "1        0.034876\n",
              "2        0.001390\n",
              "3        0.000024\n",
              "4        0.020383\n",
              "           ...   \n",
              "34360    0.001502\n",
              "34361    0.002141\n",
              "34362    0.007620\n",
              "34363    0.014454\n",
              "34364    0.004410\n",
              "Name: chars_in_subject_proportion, Length: 114541, dtype: float64"
            ]
          },
          "metadata": {},
          "execution_count": 12
        }
      ],
      "source": [
        "# print(joint_df.columns)\n",
        "# joint_df.to_csv('joint_chk.csv')\n",
        "joint_df['chars_in_subject_proportion'] "
      ],
      "id": "2e142a62"
    },
    {
      "cell_type": "code",
      "execution_count": null,
      "metadata": {
        "id": "863f58c3"
      },
      "outputs": [],
      "source": [
        "le_org = preprocessing.LabelEncoder()\n",
        "joint_df['timezone'] = le_org.fit_transform(joint_df['timezone'])"
      ],
      "id": "863f58c3"
    },
    {
      "cell_type": "code",
      "execution_count": null,
      "metadata": {
        "id": "d2ffb9f4"
      },
      "outputs": [],
      "source": [
        "# train_df['timezone'] = le_org.transform(train_df['timezone'])"
      ],
      "id": "d2ffb9f4"
    },
    {
      "cell_type": "code",
      "execution_count": null,
      "metadata": {
        "id": "abcfad86"
      },
      "outputs": [],
      "source": [
        "le_tldfront = preprocessing.LabelEncoder()\n",
        "joint_df['tld_front'] = le_tldfront.fit_transform(joint_df['tld_front'])"
      ],
      "id": "abcfad86"
    },
    {
      "cell_type": "code",
      "execution_count": null,
      "metadata": {
        "id": "tSsBRxw8UN-d"
      },
      "outputs": [],
      "source": [
        "right_df = pd.read_csv('final_label_probab_df.csv')\n",
        "joint_df = joint_df.merge(right_df, on='org', how='left', indicator=False)"
      ],
      "id": "tSsBRxw8UN-d"
    },
    {
      "cell_type": "code",
      "execution_count": null,
      "metadata": {
        "id": "bqX8OYTqZ7e6"
      },
      "outputs": [],
      "source": [
        "\n",
        "# test_df = feature_engineering(test_df)\n",
        "\n",
        "# # ONLY FOR TRAINING SET\n",
        "# # A date was 13 instead of 2013\n",
        "# test_df['year'] = test_df['year'].apply(lambda x: x[1:] if len(x)==5 else x)\n",
        "# test_df['month'] = test_df['month'].apply(lambda x: 'Mar' if len(x)!=3 else x)\n",
        "# test_df = feature_engineering_cleaning(test_df)"
      ],
      "id": "bqX8OYTqZ7e6"
    },
    {
      "cell_type": "code",
      "execution_count": null,
      "metadata": {
        "id": "ij6Q-qhCPNTU"
      },
      "outputs": [],
      "source": [
        "# test_df = ohe_mail_type(test_df)\n",
        "# test_df = ohe_others(test_df)\n",
        "# test_df = tld_split(test_df)"
      ],
      "id": "ij6Q-qhCPNTU"
    },
    {
      "cell_type": "code",
      "execution_count": null,
      "metadata": {
        "id": "TGf324U6R2HB"
      },
      "outputs": [],
      "source": [
        "# le_org = preprocessing.LabelEncoder()\n",
        "# test_df['timezone'] = le_org.transform(test_df['timezone'])\n",
        "\n",
        "# le_tldfront = preprocessing.LabelEncoder()\n",
        "# test_df['tld_front'] = le_tldfront.transform(test_df['tld_front'])"
      ],
      "id": "TGf324U6R2HB"
    },
    {
      "cell_type": "code",
      "execution_count": null,
      "metadata": {
        "id": "nRI8NUvTScbE"
      },
      "outputs": [],
      "source": [
        "# right_df = pd.read_csv('final_label_probab_df.csv')\n",
        "# test_df = test_df.merge(right_df, on='org', how='left', indicator=False)"
      ],
      "id": "nRI8NUvTScbE"
    },
    {
      "cell_type": "code",
      "execution_count": null,
      "metadata": {
        "id": "fe58ca28"
      },
      "outputs": [],
      "source": [
        "le_org = preprocessing.LabelEncoder()\n",
        "joint_df['org'] = le_tldfront.fit_transform(joint_df['org'])"
      ],
      "id": "fe58ca28"
    },
    {
      "cell_type": "code",
      "execution_count": null,
      "metadata": {
        "id": "8a665fe1",
        "outputId": "6848e2ff-928f-481a-ab64-3b123d718da0",
        "colab": {
          "base_uri": "https://localhost:8080/",
          "height": 81
        }
      },
      "outputs": [
        {
          "output_type": "execute_result",
          "data": {
            "text/plain": [
              "        dtype\n",
              "label  object"
            ],
            "text/html": [
              "\n",
              "  <div id=\"df-e55bcb90-c61a-4fdd-8036-6c030983b3af\">\n",
              "    <div class=\"colab-df-container\">\n",
              "      <div>\n",
              "<style scoped>\n",
              "    .dataframe tbody tr th:only-of-type {\n",
              "        vertical-align: middle;\n",
              "    }\n",
              "\n",
              "    .dataframe tbody tr th {\n",
              "        vertical-align: top;\n",
              "    }\n",
              "\n",
              "    .dataframe thead th {\n",
              "        text-align: right;\n",
              "    }\n",
              "</style>\n",
              "<table border=\"1\" class=\"dataframe\">\n",
              "  <thead>\n",
              "    <tr style=\"text-align: right;\">\n",
              "      <th></th>\n",
              "      <th>dtype</th>\n",
              "    </tr>\n",
              "  </thead>\n",
              "  <tbody>\n",
              "    <tr>\n",
              "      <th>label</th>\n",
              "      <td>object</td>\n",
              "    </tr>\n",
              "  </tbody>\n",
              "</table>\n",
              "</div>\n",
              "      <button class=\"colab-df-convert\" onclick=\"convertToInteractive('df-e55bcb90-c61a-4fdd-8036-6c030983b3af')\"\n",
              "              title=\"Convert this dataframe to an interactive table.\"\n",
              "              style=\"display:none;\">\n",
              "        \n",
              "  <svg xmlns=\"http://www.w3.org/2000/svg\" height=\"24px\"viewBox=\"0 0 24 24\"\n",
              "       width=\"24px\">\n",
              "    <path d=\"M0 0h24v24H0V0z\" fill=\"none\"/>\n",
              "    <path d=\"M18.56 5.44l.94 2.06.94-2.06 2.06-.94-2.06-.94-.94-2.06-.94 2.06-2.06.94zm-11 1L8.5 8.5l.94-2.06 2.06-.94-2.06-.94L8.5 2.5l-.94 2.06-2.06.94zm10 10l.94 2.06.94-2.06 2.06-.94-2.06-.94-.94-2.06-.94 2.06-2.06.94z\"/><path d=\"M17.41 7.96l-1.37-1.37c-.4-.4-.92-.59-1.43-.59-.52 0-1.04.2-1.43.59L10.3 9.45l-7.72 7.72c-.78.78-.78 2.05 0 2.83L4 21.41c.39.39.9.59 1.41.59.51 0 1.02-.2 1.41-.59l7.78-7.78 2.81-2.81c.8-.78.8-2.07 0-2.86zM5.41 20L4 18.59l7.72-7.72 1.47 1.35L5.41 20z\"/>\n",
              "  </svg>\n",
              "      </button>\n",
              "      \n",
              "  <style>\n",
              "    .colab-df-container {\n",
              "      display:flex;\n",
              "      flex-wrap:wrap;\n",
              "      gap: 12px;\n",
              "    }\n",
              "\n",
              "    .colab-df-convert {\n",
              "      background-color: #E8F0FE;\n",
              "      border: none;\n",
              "      border-radius: 50%;\n",
              "      cursor: pointer;\n",
              "      display: none;\n",
              "      fill: #1967D2;\n",
              "      height: 32px;\n",
              "      padding: 0 0 0 0;\n",
              "      width: 32px;\n",
              "    }\n",
              "\n",
              "    .colab-df-convert:hover {\n",
              "      background-color: #E2EBFA;\n",
              "      box-shadow: 0px 1px 2px rgba(60, 64, 67, 0.3), 0px 1px 3px 1px rgba(60, 64, 67, 0.15);\n",
              "      fill: #174EA6;\n",
              "    }\n",
              "\n",
              "    [theme=dark] .colab-df-convert {\n",
              "      background-color: #3B4455;\n",
              "      fill: #D2E3FC;\n",
              "    }\n",
              "\n",
              "    [theme=dark] .colab-df-convert:hover {\n",
              "      background-color: #434B5C;\n",
              "      box-shadow: 0px 1px 3px 1px rgba(0, 0, 0, 0.15);\n",
              "      filter: drop-shadow(0px 1px 2px rgba(0, 0, 0, 0.3));\n",
              "      fill: #FFFFFF;\n",
              "    }\n",
              "  </style>\n",
              "\n",
              "      <script>\n",
              "        const buttonEl =\n",
              "          document.querySelector('#df-e55bcb90-c61a-4fdd-8036-6c030983b3af button.colab-df-convert');\n",
              "        buttonEl.style.display =\n",
              "          google.colab.kernel.accessAllowed ? 'block' : 'none';\n",
              "\n",
              "        async function convertToInteractive(key) {\n",
              "          const element = document.querySelector('#df-e55bcb90-c61a-4fdd-8036-6c030983b3af');\n",
              "          const dataTable =\n",
              "            await google.colab.kernel.invokeFunction('convertToInteractive',\n",
              "                                                     [key], {});\n",
              "          if (!dataTable) return;\n",
              "\n",
              "          const docLinkHtml = 'Like what you see? Visit the ' +\n",
              "            '<a target=\"_blank\" href=https://colab.research.google.com/notebooks/data_table.ipynb>data table notebook</a>'\n",
              "            + ' to learn more about interactive tables.';\n",
              "          element.innerHTML = '';\n",
              "          dataTable['output_type'] = 'display_data';\n",
              "          await google.colab.output.renderOutput(dataTable, element);\n",
              "          const docLink = document.createElement('div');\n",
              "          docLink.innerHTML = docLinkHtml;\n",
              "          element.appendChild(docLink);\n",
              "        }\n",
              "      </script>\n",
              "    </div>\n",
              "  </div>\n",
              "  "
            ]
          },
          "metadata": {},
          "execution_count": 15
        }
      ],
      "source": [
        "df_dtypes = joint_df.dtypes.to_frame('dtype')\n",
        "df_dtypes[df_dtypes['dtype'] == 'object']"
      ],
      "id": "8a665fe1"
    },
    {
      "cell_type": "code",
      "execution_count": null,
      "metadata": {
        "id": "c1aa43ce"
      },
      "outputs": [],
      "source": [
        "from sklearn.preprocessing import StandardScaler\n",
        "col_names = ['ccs', 'images', 'urls', 'chars_in_subject', 'chars_in_body', 'hour', 'month_number', 'weekday', 'timezone', 'year', 'day']\n",
        "features = joint_df[col_names]\n",
        "scaler = StandardScaler().fit(features.values)\n",
        "features = scaler.transform(features.values)\n",
        "joint_df[col_names] = features\n",
        "# scaler = StandardScaler()\n",
        "# joint_df[[]] = scaler.fit_transform(joint_df[['ccs', 'images', 'urls', 'chars_in_subject', 'chars_in_body', 'hour', 'month_number', 'weekday', 'timezone']])"
      ],
      "id": "c1aa43ce"
    },
    {
      "cell_type": "code",
      "execution_count": null,
      "metadata": {
        "id": "d4fdf0ca",
        "outputId": "2a2c28b1-7745-48dc-c334-7caa5dfcb8c9",
        "colab": {
          "base_uri": "https://localhost:8080/"
        }
      },
      "outputs": [
        {
          "output_type": "stream",
          "name": "stdout",
          "text": [
            "Unnamed: 0 80175\n",
            "org 1082\n",
            "ccs 54\n",
            "images 189\n",
            "urls 183\n",
            "chars_in_subject 16\n",
            "chars_in_body 38\n",
            "tld_front 238\n"
          ]
        }
      ],
      "source": [
        "for col in joint_df.drop('label',axis=1).columns:\n",
        "    if joint_df[col].astype('int').max()>5:\n",
        "        print(col,joint_df[col].astype('int').max())\n",
        "# joint_df"
      ],
      "id": "d4fdf0ca"
    },
    {
      "cell_type": "code",
      "execution_count": null,
      "metadata": {
        "id": "83cb24b5"
      },
      "outputs": [],
      "source": [
        "joint_df[joint_df['label'] == 'test_df'].drop('label',axis=1).to_csv('test_final_scaled.csv',index=False)\n",
        "joint_df[joint_df['label'] != 'test_df'].to_csv('train_final_scaled.csv',index=False)"
      ],
      "id": "83cb24b5"
    },
    {
      "cell_type": "code",
      "execution_count": null,
      "metadata": {
        "id": "12dc3a5e",
        "outputId": "f3e7c4fa-b939-4e0e-bb89-5e62ce53281a"
      },
      "outputs": [
        {
          "data": {
            "text/plain": [
              "(80176, 14)"
            ]
          },
          "execution_count": 201,
          "metadata": {},
          "output_type": "execute_result"
        }
      ],
      "source": [
        "train_df.shape"
      ],
      "id": "12dc3a5e"
    },
    {
      "cell_type": "code",
      "execution_count": null,
      "metadata": {
        "colab": {
          "base_uri": "https://localhost:8080/",
          "height": 424
        },
        "id": "GgKlJhtVe2EA",
        "outputId": "13020cd6-cb45-48ea-c884-e2a1927d4c16"
      },
      "outputs": [
        {
          "output_type": "execute_result",
          "data": {
            "text/plain": [
              "                                    date            org             tld  ccs  \\\n",
              "0         Wed, 1 Nov 2017 15:51:21 +0530          iiitd           ac.in    0   \n",
              "1        Thu, 05 Mar 2015 20:47:22 -0500  notifications  freelancer.com    0   \n",
              "2        Thu, 21 Apr 2016 14:53:08 +0530          iiitd           ac.in    1   \n",
              "3  Tue, 06 Feb 2018 12:12:08 +0000 (UTC)        udacity             com    0   \n",
              "4        Tue, 21 May 2019 05:56:27 -0700         google             com    0   \n",
              "\n",
              "   bcced              mail_type  images  urls  salutations  designation  \\\n",
              "0      0  multipart/alternative       0    12            1            0   \n",
              "1      0  multipart/alternative       7    49            1            0   \n",
              "2      0  multipart/alternative       0     0            1            0   \n",
              "3      0  multipart/alternative      13    50            1            0   \n",
              "4      0              text/html      18    76            1            0   \n",
              "\n",
              "   chars_in_subject  chars_in_body    label  \n",
              "0              20.0           4505  test_df  \n",
              "1              49.0          32949  test_df  \n",
              "2              24.0           1707  test_df  \n",
              "3              70.0          76686  test_df  \n",
              "4              38.0          22646  test_df  "
            ],
            "text/html": [
              "\n",
              "  <div id=\"df-932578b2-7d0c-4850-8994-f60b734f9b36\">\n",
              "    <div class=\"colab-df-container\">\n",
              "      <div>\n",
              "<style scoped>\n",
              "    .dataframe tbody tr th:only-of-type {\n",
              "        vertical-align: middle;\n",
              "    }\n",
              "\n",
              "    .dataframe tbody tr th {\n",
              "        vertical-align: top;\n",
              "    }\n",
              "\n",
              "    .dataframe thead th {\n",
              "        text-align: right;\n",
              "    }\n",
              "</style>\n",
              "<table border=\"1\" class=\"dataframe\">\n",
              "  <thead>\n",
              "    <tr style=\"text-align: right;\">\n",
              "      <th></th>\n",
              "      <th>date</th>\n",
              "      <th>org</th>\n",
              "      <th>tld</th>\n",
              "      <th>ccs</th>\n",
              "      <th>bcced</th>\n",
              "      <th>mail_type</th>\n",
              "      <th>images</th>\n",
              "      <th>urls</th>\n",
              "      <th>salutations</th>\n",
              "      <th>designation</th>\n",
              "      <th>chars_in_subject</th>\n",
              "      <th>chars_in_body</th>\n",
              "      <th>label</th>\n",
              "    </tr>\n",
              "  </thead>\n",
              "  <tbody>\n",
              "    <tr>\n",
              "      <th>0</th>\n",
              "      <td>Wed, 1 Nov 2017 15:51:21 +0530</td>\n",
              "      <td>iiitd</td>\n",
              "      <td>ac.in</td>\n",
              "      <td>0</td>\n",
              "      <td>0</td>\n",
              "      <td>multipart/alternative</td>\n",
              "      <td>0</td>\n",
              "      <td>12</td>\n",
              "      <td>1</td>\n",
              "      <td>0</td>\n",
              "      <td>20.0</td>\n",
              "      <td>4505</td>\n",
              "      <td>test_df</td>\n",
              "    </tr>\n",
              "    <tr>\n",
              "      <th>1</th>\n",
              "      <td>Thu, 05 Mar 2015 20:47:22 -0500</td>\n",
              "      <td>notifications</td>\n",
              "      <td>freelancer.com</td>\n",
              "      <td>0</td>\n",
              "      <td>0</td>\n",
              "      <td>multipart/alternative</td>\n",
              "      <td>7</td>\n",
              "      <td>49</td>\n",
              "      <td>1</td>\n",
              "      <td>0</td>\n",
              "      <td>49.0</td>\n",
              "      <td>32949</td>\n",
              "      <td>test_df</td>\n",
              "    </tr>\n",
              "    <tr>\n",
              "      <th>2</th>\n",
              "      <td>Thu, 21 Apr 2016 14:53:08 +0530</td>\n",
              "      <td>iiitd</td>\n",
              "      <td>ac.in</td>\n",
              "      <td>1</td>\n",
              "      <td>0</td>\n",
              "      <td>multipart/alternative</td>\n",
              "      <td>0</td>\n",
              "      <td>0</td>\n",
              "      <td>1</td>\n",
              "      <td>0</td>\n",
              "      <td>24.0</td>\n",
              "      <td>1707</td>\n",
              "      <td>test_df</td>\n",
              "    </tr>\n",
              "    <tr>\n",
              "      <th>3</th>\n",
              "      <td>Tue, 06 Feb 2018 12:12:08 +0000 (UTC)</td>\n",
              "      <td>udacity</td>\n",
              "      <td>com</td>\n",
              "      <td>0</td>\n",
              "      <td>0</td>\n",
              "      <td>multipart/alternative</td>\n",
              "      <td>13</td>\n",
              "      <td>50</td>\n",
              "      <td>1</td>\n",
              "      <td>0</td>\n",
              "      <td>70.0</td>\n",
              "      <td>76686</td>\n",
              "      <td>test_df</td>\n",
              "    </tr>\n",
              "    <tr>\n",
              "      <th>4</th>\n",
              "      <td>Tue, 21 May 2019 05:56:27 -0700</td>\n",
              "      <td>google</td>\n",
              "      <td>com</td>\n",
              "      <td>0</td>\n",
              "      <td>0</td>\n",
              "      <td>text/html</td>\n",
              "      <td>18</td>\n",
              "      <td>76</td>\n",
              "      <td>1</td>\n",
              "      <td>0</td>\n",
              "      <td>38.0</td>\n",
              "      <td>22646</td>\n",
              "      <td>test_df</td>\n",
              "    </tr>\n",
              "  </tbody>\n",
              "</table>\n",
              "</div>\n",
              "      <button class=\"colab-df-convert\" onclick=\"convertToInteractive('df-932578b2-7d0c-4850-8994-f60b734f9b36')\"\n",
              "              title=\"Convert this dataframe to an interactive table.\"\n",
              "              style=\"display:none;\">\n",
              "        \n",
              "  <svg xmlns=\"http://www.w3.org/2000/svg\" height=\"24px\"viewBox=\"0 0 24 24\"\n",
              "       width=\"24px\">\n",
              "    <path d=\"M0 0h24v24H0V0z\" fill=\"none\"/>\n",
              "    <path d=\"M18.56 5.44l.94 2.06.94-2.06 2.06-.94-2.06-.94-.94-2.06-.94 2.06-2.06.94zm-11 1L8.5 8.5l.94-2.06 2.06-.94-2.06-.94L8.5 2.5l-.94 2.06-2.06.94zm10 10l.94 2.06.94-2.06 2.06-.94-2.06-.94-.94-2.06-.94 2.06-2.06.94z\"/><path d=\"M17.41 7.96l-1.37-1.37c-.4-.4-.92-.59-1.43-.59-.52 0-1.04.2-1.43.59L10.3 9.45l-7.72 7.72c-.78.78-.78 2.05 0 2.83L4 21.41c.39.39.9.59 1.41.59.51 0 1.02-.2 1.41-.59l7.78-7.78 2.81-2.81c.8-.78.8-2.07 0-2.86zM5.41 20L4 18.59l7.72-7.72 1.47 1.35L5.41 20z\"/>\n",
              "  </svg>\n",
              "      </button>\n",
              "      \n",
              "  <style>\n",
              "    .colab-df-container {\n",
              "      display:flex;\n",
              "      flex-wrap:wrap;\n",
              "      gap: 12px;\n",
              "    }\n",
              "\n",
              "    .colab-df-convert {\n",
              "      background-color: #E8F0FE;\n",
              "      border: none;\n",
              "      border-radius: 50%;\n",
              "      cursor: pointer;\n",
              "      display: none;\n",
              "      fill: #1967D2;\n",
              "      height: 32px;\n",
              "      padding: 0 0 0 0;\n",
              "      width: 32px;\n",
              "    }\n",
              "\n",
              "    .colab-df-convert:hover {\n",
              "      background-color: #E2EBFA;\n",
              "      box-shadow: 0px 1px 2px rgba(60, 64, 67, 0.3), 0px 1px 3px 1px rgba(60, 64, 67, 0.15);\n",
              "      fill: #174EA6;\n",
              "    }\n",
              "\n",
              "    [theme=dark] .colab-df-convert {\n",
              "      background-color: #3B4455;\n",
              "      fill: #D2E3FC;\n",
              "    }\n",
              "\n",
              "    [theme=dark] .colab-df-convert:hover {\n",
              "      background-color: #434B5C;\n",
              "      box-shadow: 0px 1px 3px 1px rgba(0, 0, 0, 0.15);\n",
              "      filter: drop-shadow(0px 1px 2px rgba(0, 0, 0, 0.3));\n",
              "      fill: #FFFFFF;\n",
              "    }\n",
              "  </style>\n",
              "\n",
              "      <script>\n",
              "        const buttonEl =\n",
              "          document.querySelector('#df-932578b2-7d0c-4850-8994-f60b734f9b36 button.colab-df-convert');\n",
              "        buttonEl.style.display =\n",
              "          google.colab.kernel.accessAllowed ? 'block' : 'none';\n",
              "\n",
              "        async function convertToInteractive(key) {\n",
              "          const element = document.querySelector('#df-932578b2-7d0c-4850-8994-f60b734f9b36');\n",
              "          const dataTable =\n",
              "            await google.colab.kernel.invokeFunction('convertToInteractive',\n",
              "                                                     [key], {});\n",
              "          if (!dataTable) return;\n",
              "\n",
              "          const docLinkHtml = 'Like what you see? Visit the ' +\n",
              "            '<a target=\"_blank\" href=https://colab.research.google.com/notebooks/data_table.ipynb>data table notebook</a>'\n",
              "            + ' to learn more about interactive tables.';\n",
              "          element.innerHTML = '';\n",
              "          dataTable['output_type'] = 'display_data';\n",
              "          await google.colab.output.renderOutput(dataTable, element);\n",
              "          const docLink = document.createElement('div');\n",
              "          docLink.innerHTML = docLinkHtml;\n",
              "          element.appendChild(docLink);\n",
              "        }\n",
              "      </script>\n",
              "    </div>\n",
              "  </div>\n",
              "  "
            ]
          },
          "metadata": {},
          "execution_count": 24
        }
      ],
      "source": [
        "test_df.head()"
      ],
      "id": "GgKlJhtVe2EA"
    },
    {
      "cell_type": "code",
      "source": [
        "train_df = pd.read_csv('train_final_scaled.csv')\n",
        "test_df = pd.read_csv('test_final_scaled.csv') \n",
        "\n",
        "# train_df = pd.read_csv('To_run_train.csv')\n",
        "# test_df = pd.read_csv('To_run_test.csv') \n",
        "\n",
        "train_df.drop('Unnamed: 0',axis= 1, inplace=True)\n",
        "test_df.drop('Unnamed: 0',axis= 1, inplace=True)\n",
        "!pip install catboost\n",
        "!pip install lightgbm\n",
        "\n",
        "from sklearn.model_selection import train_test_split\n",
        "from sklearn.neighbors import KNeighborsClassifier\n",
        "from sklearn.metrics import accuracy_score, classification_report, multilabel_confusion_matrix, confusion_matrix, precision_score, recall_score\n",
        "from sklearn.discriminant_analysis import LinearDiscriminantAnalysis as LDA\n",
        "from sklearn.model_selection import GridSearchCV\n",
        "from sklearn.decomposition import PCA\n",
        "from sklearn.preprocessing import StandardScaler\n",
        "from catboost import CatBoostClassifier\n",
        "from lightgbm import LGBMClassifier\n",
        "from sklearn.ensemble import AdaBoostClassifier\n",
        "from sklearn.tree import DecisionTreeClassifier\n",
        "from sklearn.linear_model import Lasso\n",
        "import xgboost as xgb"
      ],
      "metadata": {
        "colab": {
          "base_uri": "https://localhost:8080/"
        },
        "id": "Y85xa2-WOKlF",
        "outputId": "0a40f4d5-6aa4-4a54-cf52-fb1187ce501f"
      },
      "id": "Y85xa2-WOKlF",
      "execution_count": null,
      "outputs": [
        {
          "output_type": "stream",
          "name": "stdout",
          "text": [
            "Looking in indexes: https://pypi.org/simple, https://us-python.pkg.dev/colab-wheels/public/simple/\n",
            "Collecting catboost\n",
            "  Downloading catboost-1.1.1-cp37-none-manylinux1_x86_64.whl (76.6 MB)\n",
            "\u001b[K     |████████████████████████████████| 76.6 MB 1.2 MB/s \n",
            "\u001b[?25hRequirement already satisfied: pandas>=0.24.0 in /usr/local/lib/python3.7/dist-packages (from catboost) (1.3.5)\n",
            "Requirement already satisfied: numpy>=1.16.0 in /usr/local/lib/python3.7/dist-packages (from catboost) (1.21.6)\n",
            "Requirement already satisfied: plotly in /usr/local/lib/python3.7/dist-packages (from catboost) (5.5.0)\n",
            "Requirement already satisfied: graphviz in /usr/local/lib/python3.7/dist-packages (from catboost) (0.10.1)\n",
            "Requirement already satisfied: scipy in /usr/local/lib/python3.7/dist-packages (from catboost) (1.7.3)\n",
            "Requirement already satisfied: six in /usr/local/lib/python3.7/dist-packages (from catboost) (1.15.0)\n",
            "Requirement already satisfied: matplotlib in /usr/local/lib/python3.7/dist-packages (from catboost) (3.2.2)\n",
            "Requirement already satisfied: python-dateutil>=2.7.3 in /usr/local/lib/python3.7/dist-packages (from pandas>=0.24.0->catboost) (2.8.2)\n",
            "Requirement already satisfied: pytz>=2017.3 in /usr/local/lib/python3.7/dist-packages (from pandas>=0.24.0->catboost) (2022.6)\n",
            "Requirement already satisfied: cycler>=0.10 in /usr/local/lib/python3.7/dist-packages (from matplotlib->catboost) (0.11.0)\n",
            "Requirement already satisfied: kiwisolver>=1.0.1 in /usr/local/lib/python3.7/dist-packages (from matplotlib->catboost) (1.4.4)\n",
            "Requirement already satisfied: pyparsing!=2.0.4,!=2.1.2,!=2.1.6,>=2.0.1 in /usr/local/lib/python3.7/dist-packages (from matplotlib->catboost) (3.0.9)\n",
            "Requirement already satisfied: typing-extensions in /usr/local/lib/python3.7/dist-packages (from kiwisolver>=1.0.1->matplotlib->catboost) (4.1.1)\n",
            "Requirement already satisfied: tenacity>=6.2.0 in /usr/local/lib/python3.7/dist-packages (from plotly->catboost) (8.1.0)\n",
            "Installing collected packages: catboost\n",
            "Successfully installed catboost-1.1.1\n",
            "Looking in indexes: https://pypi.org/simple, https://us-python.pkg.dev/colab-wheels/public/simple/\n",
            "Requirement already satisfied: lightgbm in /usr/local/lib/python3.7/dist-packages (2.2.3)\n",
            "Requirement already satisfied: numpy in /usr/local/lib/python3.7/dist-packages (from lightgbm) (1.21.6)\n",
            "Requirement already satisfied: scikit-learn in /usr/local/lib/python3.7/dist-packages (from lightgbm) (1.0.2)\n",
            "Requirement already satisfied: scipy in /usr/local/lib/python3.7/dist-packages (from lightgbm) (1.7.3)\n",
            "Requirement already satisfied: joblib>=0.11 in /usr/local/lib/python3.7/dist-packages (from scikit-learn->lightgbm) (1.2.0)\n",
            "Requirement already satisfied: threadpoolctl>=2.0.0 in /usr/local/lib/python3.7/dist-packages (from scikit-learn->lightgbm) (3.1.0)\n"
          ]
        }
      ]
    },
    {
      "cell_type": "code",
      "source": [
        "# X_train, X_test, y_train, y_test = train_test_split(\n",
        "#     train_df[['label_3_probab', 'label_0_probab', 'label_7_probab', 'label_2_probab',\n",
        "#        'year', 'label_1_probab', 'chars_in_subject', 'label_4_probab', 'urls',\n",
        "#        'ccs', 'Ratio-SubtoBody', 'i/u_ratio', 'monthday', 'label_5_probab',\n",
        "#        'chars_in_body', 'images', 'hour', 'full_wsite', 'add_info']], train_df['label'], test_size=0.2, random_state=42)\n",
        "\n",
        "\n",
        "X_train, X_test, y_train, y_test = train_test_split(\n",
        "    train_df[['label_3_probab', 'label_0_probab', 'label_7_probab', 'label_2_probab',\n",
        "       'year', 'label_1_probab', 'chars_in_subject', 'label_4_probab', 'urls',\n",
        "       'ccs', 'month_number', 'chars_in_body', 'label_5_probab',\n",
        "       'label_6_probab', 'timezone', 'chars_in_subject_proportion',\n",
        "       'urls_proportion_body', 'chars_in_body_proportion',\n",
        "       'urls_images_proportion', 'images']], train_df['label'], test_size=0.2, random_state=42)\n",
        "\n",
        "# X_train, X_test, y_train, y_test = train_test_split(\n",
        "#     train_df.drop(['label'],axis = 1), train_df['label'], test_size=0.2, random_state=42)\n",
        "\n",
        "model = LGBMClassifier(max_depth = -1, num_leaves = 17, min_data_in_leaf = 600,\n",
        "                       boosting_type = 'dart', min_gain_to_split = 0.4, lambda_l1 = 1, lambda_l2 = 1.05, n_estimators = 101, importance_type = 'gain',\n",
        "                       objective = 'multiclass')\n",
        "\n",
        "#model = GridSearchCV(model, gridParams, verbose=1, cv=4, n_jobs=-1)\n",
        "model.fit(X_train, y_train)\n",
        "#print(model.best_params_)\n",
        "#print(model.best_score_)\n",
        "pred = model.predict(X_test)\n",
        "print(f'Acuracy of the GBM:{accuracy_score(y_test, pred)}')\n",
        "classification_report(y_test, pred)\n",
        "\n",
        "feat_importances = pd.Series(model.feature_importances_, index=X_train.columns)\n",
        "feat_importances.nlargest(20).plot(kind='bar')\n",
        "\n",
        "print(feat_importances.nlargest(20).index)\n",
        "#0.5992766275879272 next goal 0.6092766275879272  0.6025193315041157 0.6058867548016962"
      ],
      "metadata": {
        "colab": {
          "base_uri": "https://localhost:8080/",
          "height": 534
        },
        "id": "yCejiNG4NPPk",
        "outputId": "552cff22-5811-4aac-f9c8-f7fd5d30274d"
      },
      "id": "yCejiNG4NPPk",
      "execution_count": null,
      "outputs": [
        {
          "output_type": "stream",
          "name": "stdout",
          "text": [
            "Acuracy of the GBM:0.6058867548016962\n",
            "Index(['label_3_probab', 'label_0_probab', 'label_7_probab', 'label_2_probab',\n",
            "       'year', 'label_1_probab', 'chars_in_subject', 'label_4_probab', 'urls',\n",
            "       'ccs', 'month_number', 'chars_in_body', 'label_5_probab',\n",
            "       'chars_in_subject_proportion', 'label_6_probab', 'timezone',\n",
            "       'chars_in_body_proportion', 'urls_proportion_body', 'images',\n",
            "       'urls_images_proportion'],\n",
            "      dtype='object')\n"
          ]
        },
        {
          "output_type": "display_data",
          "data": {
            "text/plain": [
              "<Figure size 432x288 with 1 Axes>"
            ],
            "image/png": "[encoded data removed]"
          },
          "metadata": {
            "needs_background": "light"
          }
        }
      ]
    },
    {
      "cell_type": "code",
      "source": [
        "model = LGBMClassifier(max_depth = -1, num_leaves = 17, min_data_in_leaf = 600,\n",
        "                       boosting_type = 'dart', min_gain_to_split = 0.4, lambda_l1 = 1, lambda_l2 = 1.05, \n",
        "                       n_estimators = 101, importance_type = 'gain',\n",
        "                       objective = 'multiclass')\n",
        "\n",
        "#model = GridSearchCV(model, gridParams, verbose=1, cv=4, n_jobs=-1)\n",
        "#model.fit(train_df.drop(['label', 'label_4_probab', 'label_5_probab', 'label_6_probab'],axis = 1), train_df['label'])\n",
        "model.fit(train_df[['label_3_probab', 'label_0_probab', 'label_7_probab', 'label_2_probab',\n",
        "       'year', 'label_1_probab', 'chars_in_subject', 'label_4_probab', 'urls',\n",
        "       'ccs', 'month_number', 'chars_in_body', 'label_5_probab',\n",
        "       'label_6_probab', 'timezone', 'chars_in_subject_proportion',\n",
        "       'urls_proportion_body', 'chars_in_body_proportion',\n",
        "       'urls_images_proportion', 'images']], train_df['label'])\n",
        "#print(model.best_params_)\n",
        "#print(model.best_score_)\n",
        "pred = model.predict(test_df[['label_3_probab', 'label_0_probab', 'label_7_probab', 'label_2_probab',\n",
        "       'year', 'label_1_probab', 'chars_in_subject', 'label_4_probab', 'urls',\n",
        "       'ccs', 'month_number', 'chars_in_body', 'label_5_probab',\n",
        "       'label_6_probab', 'timezone', 'chars_in_subject_proportion',\n",
        "       'urls_proportion_body', 'chars_in_body_proportion',\n",
        "       'urls_images_proportion', 'images']])\n",
        "\n",
        "pred_df = pd.DataFrame(pred, columns=['label'])\n",
        "pred_df.to_csv(\"light20features.csv\", index=True, index_label='Id')"
      ],
      "metadata": {
        "id": "Pwo4l6j2OtyH"
      },
      "id": "Pwo4l6j2OtyH",
      "execution_count": null,
      "outputs": []
    }
  ],
  "metadata": {
    "colab": {
      "provenance": []
    },
    "kernelspec": {
      "display_name": "Python 3 (ipykernel)",
      "language": "python",
      "name": "python3"
    },
    "language_info": {
      "codemirror_mode": {
        "name": "ipython",
        "version": 3
      },
      "file_extension": ".py",
      "mimetype": "text/x-python",
      "name": "python",
      "nbconvert_exporter": "python",
      "pygments_lexer": "ipython3",
      "version": "3.9.12"
    }
  },
  "nbformat": 4,
  "nbformat_minor": 5
}